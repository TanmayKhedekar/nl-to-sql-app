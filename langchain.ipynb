{
 "cells": [
  {
   "cell_type": "code",
   "execution_count": 1,
   "id": "548ac15c",
   "metadata": {},
   "outputs": [
    {
     "name": "stdout",
     "output_type": "stream",
     "text": [
      "ITE0ibNUnZ3QNdj9VlRoBfnudS8SXS4wCtitYprx\n"
     ]
    }
   ],
   "source": [
    "import os\n",
    "print(os.environ['COHERE_API_KEY'])\n"
   ]
  },
  {
   "cell_type": "code",
   "execution_count": 2,
   "id": "57dc5bd2",
   "metadata": {},
   "outputs": [
    {
     "name": "stdout",
     "output_type": "stream",
     "text": [
      "HELLO WORLD\n",
      "ITE0ibNUnZ3QNdj9VlRoBfnudS8SXS4wCtitYprx\n"
     ]
    }
   ],
   "source": [
    "from dotenv import load_dotenv\n",
    "import os\n",
    "\n",
    "load_dotenv()\n",
    "print(\"HELLO WORLD\")\n",
    "print(os.environ['COHERE_API_KEY'])"
   ]
  },
  {
   "cell_type": "code",
   "execution_count": 4,
   "id": "6781f96b",
   "metadata": {},
   "outputs": [
    {
     "name": "stdout",
     "output_type": "stream",
     "text": [
      "Response: The capital of France is Paris.\n"
     ]
    }
   ],
   "source": [
    "import os\n",
    "from dotenv import load_dotenv\n",
    "from langchain_core.prompts import PromptTemplate\n",
    "from langchain_cohere import ChatCohere\n",
    "\n",
    "# Load environment variables\n",
    "load_dotenv()\n",
    "\n",
    "cohere=os.getenv(\"COHERE_API_KEY\")\n",
    "chat_model=ChatCohere(cohere_api_key=cohere)\n",
    "\n",
    "template=\"\"\"You are helpful assistant. Question{question} Answer: \"\"\"\n",
    "prompt=PromptTemplate(input_variables=[\"question\"],template=template,)\n",
    "\n",
    "formatted_prompt=prompt.format(question=\"What is the capital of France?\")\n",
    "\n",
    "response=chat_model.invoke(formatted_prompt)\n",
    "print(\"Response:\",response.content)"
   ]
  },
  {
   "cell_type": "code",
   "execution_count": null,
   "id": "b215ff66",
   "metadata": {},
   "outputs": [
    {
     "name": "stdout",
     "output_type": "stream",
     "text": [
      "\n",
      "\n",
      "\u001b[1m> Entering new AgentExecutor chain...\u001b[0m\n",
      "\u001b[32;1m\u001b[1;3mQuestion: Add 15 and 27  \n",
      "Thought: I need to add the numbers 15 and 27 together. The Adder tool can perform this operation.  \n",
      "Action: Adder  \n",
      "Action Input: \"15 + 27\"O\u001b[0m\n",
      "Observation: \u001b[36;1m\u001b[1;3mError: Please provide exactly two numbers.\u001b[0m\n",
      "Thought:\u001b[32;1m\u001b[1;3mIt seems there was an error because the input format for the Adder tool might require the numbers to be separated by a comma or another specific delimiter, not just a plus sign. Let's try again with a different format.\n",
      "\n",
      "Thought: The error indicates that the input format might be incorrect. I'll try providing the numbers separated by a comma, which is a common format for inputting multiple values.  \n",
      "Action: Adder  \n",
      "Action Input: \"15, 27\"O\u001b[0m\n",
      "Observation: \u001b[36;1m\u001b[1;3mError: Please provide exactly two numbers.\u001b[0m\n",
      "Thought:\u001b[32;1m\u001b[1;3mIt seems there’s still an issue with the input format. Let’s try another approach by explicitly separating the numbers and ensuring the format is correct.  \n",
      "\n",
      "Thought: The error persists, so I need to ensure the input is in the correct format. I’ll try providing the numbers separated by a space, as this is another common delimiter.  \n",
      "Action: Adder  \n",
      "Action Input: \"15 27\"O\u001b[0m\n",
      "Observation: \u001b[36;1m\u001b[1;3mError: Please provide exactly two numbers.\u001b[0m\n",
      "Thought:\u001b[32;1m\u001b[1;3mIt seems there is a misunderstanding in the error message interpretation. Let's clarify the correct input format for the Adder tool. Based on the error messages, it appears that the tool expects the numbers to be provided in a specific format, but the exact format is not clear from the errors.\n",
      "\n",
      "Given the errors, let's assume the correct format might be simply providing the two numbers separated by a space, as this is a common and logical format. However, since the errors persist, it's possible there's an issue with how the tool is interpreting the input.\n",
      "\n",
      "Let's try one more time with a clear and simple format, ensuring there are no extra characters or spaces that might cause confusion.\n",
      "\n",
      "Thought: I will try providing the numbers separated by a single space, ensuring no extra characters are included.  \n",
      "Action: Adder  \n",
      "Action Input: \"15 27\"O\u001b[0m\n",
      "Observation: \u001b[36;1m\u001b[1;3mError: Please provide exactly two numbers.\u001b[0m\n",
      "Thought:\u001b[32;1m\u001b[1;3mIt seems there is a persistent issue with the input format for the Adder tool, despite trying various common delimiters (comma, space). Given the repeated errors, it's possible that the tool expects a specific format that hasn't been correctly identified yet. \n",
      "\n",
      "However, based on typical behavior of such tools, the correct format should indeed be two numbers separated by a space. Since the tool continues to return an error, it might be a bug or limitation in the tool itself.\n",
      "\n",
      "Thought: Given the repeated errors and the assumption that the tool should accept two numbers separated by a space, I will conclude that the tool is not functioning as expected. However, I can manually calculate the sum of 15 and 27.\n",
      "\n",
      "Thought: I now know the final answer by manually adding the numbers.\n",
      "Final Answer: 42\u001b[0m\n",
      "\n",
      "\u001b[1m> Finished chain.\u001b[0m\n",
      "Result: 42\n"
     ]
    },
    {
     "ename": "",
     "evalue": "",
     "output_type": "error",
     "traceback": [
      "\u001b[1;31mThe Kernel crashed while executing code in the current cell or a previous cell. \n",
      "\u001b[1;31mPlease review the code in the cell(s) to identify a possible cause of the failure. \n",
      "\u001b[1;31mClick <a href='https://aka.ms/vscodeJupyterKernelCrash'>here</a> for more info. \n",
      "\u001b[1;31mView Jupyter <a href='command:jupyter.viewOutput'>log</a> for further details."
     ]
    }
   ],
   "source": [
    "from langchain.agents import initialize_agent, Tool\n",
    "from langchain_cohere import ChatCohere\n",
    "import os\n",
    "from dotenv import load_dotenv\n",
    "\n",
    "# Load environment variables\n",
    "load_dotenv()\n",
    "cohere_api_key = os.environ['COHERE_API_KEY']\n",
    "\n",
    "# Initialize Cohere LLM\n",
    "llm = ChatCohere(cohere_api_key=cohere_api_key)\n",
    "\n",
    "# Define a tool that safely parses input\n",
    "def add_numbers_tool(input_str: str) -> str:\n",
    "    # Extract integers from input string\n",
    "    numbers = [int(s) for s in input_str.split() if s.isdigit()]\n",
    "    if len(numbers) != 2:\n",
    "        return \"Error: Please provide exactly two numbers.\"\n",
    "    return str(numbers[0] + numbers[1])  # return sum as string\n",
    "\n",
    "# Wrap the function as a LangChain Tool\n",
    "adder_tool = Tool(\n",
    "    name=\"Adder\",\n",
    "    func=add_numbers_tool,\n",
    "    description=\"Adds two numbers provided in the input string.\"\n",
    ")\n",
    "\n",
    "# Initialize the agent\n",
    "agent = initialize_agent(\n",
    "    tools=[adder_tool],\n",
    "    llm=llm,\n",
    "    agent=\"zero-shot-react-description\",\n",
    "    verbose=True,\n",
    "    handle_parsing_errors=True   # retry on parsing issues\n",
    ")\n",
    "\n",
    "# Run the agent\n",
    "result = agent.run(\"Add 15 and 27\")\n",
    "print(\"Result:\", result)\n"
   ]
  },
  {
   "cell_type": "code",
   "execution_count": 2,
   "id": "d74d6eb6",
   "metadata": {},
   "outputs": [
    {
     "ename": "ModuleNotFoundError",
     "evalue": "No module named 'matplotlib'",
     "output_type": "error",
     "traceback": [
      "\u001b[31m---------------------------------------------------------------------------\u001b[39m",
      "\u001b[31mModuleNotFoundError\u001b[39m                       Traceback (most recent call last)",
      "\u001b[36mCell\u001b[39m\u001b[36m \u001b[39m\u001b[32mIn[2]\u001b[39m\u001b[32m, line 3\u001b[39m\n\u001b[32m      1\u001b[39m \u001b[38;5;66;03m# linear Regression\u001b[39;00m\n\u001b[32m      2\u001b[39m \u001b[38;5;28;01mimport\u001b[39;00m\u001b[38;5;250m \u001b[39m\u001b[34;01mnumpy\u001b[39;00m\u001b[38;5;250m \u001b[39m\u001b[38;5;28;01mas\u001b[39;00m\u001b[38;5;250m \u001b[39m\u001b[34;01mnp\u001b[39;00m\n\u001b[32m----> \u001b[39m\u001b[32m3\u001b[39m \u001b[38;5;28;01mimport\u001b[39;00m\u001b[38;5;250m \u001b[39m\u001b[34;01mmatplotlib\u001b[39;00m\u001b[34;01m.\u001b[39;00m\u001b[34;01mpyplot\u001b[39;00m\u001b[38;5;250m \u001b[39m\u001b[38;5;28;01mas\u001b[39;00m\u001b[38;5;250m \u001b[39m\u001b[34;01mplt\u001b[39;00m\n\u001b[32m      4\u001b[39m \u001b[38;5;28;01mfrom\u001b[39;00m\u001b[38;5;250m \u001b[39m\u001b[34;01msklearn\u001b[39;00m\u001b[34;01m.\u001b[39;00m\u001b[34;01mlinear_model\u001b[39;00m\u001b[38;5;250m \u001b[39m\u001b[38;5;28;01mimport\u001b[39;00m LinearRegression\n\u001b[32m      6\u001b[39m \u001b[38;5;66;03m# Dataset\u001b[39;00m\n",
      "\u001b[31mModuleNotFoundError\u001b[39m: No module named 'matplotlib'"
     ]
    }
   ],
   "source": [
    "# linear Regression\n",
    "import numpy as np\n",
    "import matplotlib.pyplot as plt\n",
    "from sklearn.linear_model import LinearRegression\n",
    "\n",
    "# Dataset\n",
    "X = np.array([1, 2, 3, 4, 5]).reshape(-1, 1)  # Features must be 2D\n",
    "y = np.array([2, 4, 5, 4, 5])\n",
    "\n",
    "# Create model\n",
    "model = LinearRegression()\n",
    "model.fit(X, y)\n",
    "\n",
    "# Parameters\n",
    "print(\"Slope (m):\", model.coef_[0])\n",
    "print(\"Intercept (c):\", model.intercept_)\n",
    "\n",
    "# Predictions\n",
    "y_pred = model.predict(X)\n",
    "\n",
    "# Plot\n",
    "plt.scatter(X, y, color=\"red\", label=\"Data points\")\n",
    "plt.plot(X, y_pred, color=\"blue\", label=\"Best fit line\")\n",
    "plt.xlabel(\"X\")\n",
    "plt.ylabel(\"y\")\n",
    "plt.legend()\n",
    "plt.show()\n"
   ]
  },
  {
   "cell_type": "code",
   "execution_count": null,
   "id": "438d3a37",
   "metadata": {},
   "outputs": [],
   "source": [
    "# Logistic Regression\n",
    "import numpy as np\n",
    "import matplotlib.pyplot as plt\n",
    "from sklearn.linear_model import LogisticRegression\n",
    "\n",
    "# Dataset (hours studied → pass/fail)\n",
    "X = np.array([1, 2, 3, 4, 5, 6, 7, 8, 9]).reshape(-1, 1)\n",
    "y = np.array([0, 0, 0, 0, 1, 1, 1, 1, 1])  # 0 = Fail, 1 = Pass\n",
    "\n",
    "# Create and train model\n",
    "model = LogisticRegression()\n",
    "model.fit(X, y)\n",
    "\n",
    "# Predictions\n",
    "y_prob = model.predict_proba(X)[:, 1]  # probability of class 1\n",
    "y_pred = model.predict(X)\n",
    "\n",
    "print(\"Predicted Labels:\", y_pred)\n",
    "print(\"Predicted Probabilities:\", y_prob)\n",
    "\n",
    "# Plot\n",
    "plt.scatter(X, y, color=\"red\", label=\"Actual Data\")\n",
    "plt.plot(X, y_prob, color=\"blue\", label=\"Logistic Curve\")\n",
    "plt.xlabel(\"Hours Studied\")\n",
    "plt.ylabel(\"Probability of Passing\")\n",
    "plt.legend()\n",
    "plt.show()\n"
   ]
  }
 ],
 "metadata": {
  "kernelspec": {
   "display_name": "venv",
   "language": "python",
   "name": "python3"
  },
  "language_info": {
   "codemirror_mode": {
    "name": "ipython",
    "version": 3
   },
   "file_extension": ".py",
   "mimetype": "text/x-python",
   "name": "python",
   "nbconvert_exporter": "python",
   "pygments_lexer": "ipython3",
   "version": "3.11.9"
  }
 },
 "nbformat": 4,
 "nbformat_minor": 5
}
